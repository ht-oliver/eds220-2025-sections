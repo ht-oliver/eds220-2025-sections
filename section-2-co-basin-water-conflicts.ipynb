{
 "cells": [
  {
   "cell_type": "markdown",
   "id": "0c39ef98-d3a9-4e28-a6f8-87a1cd42dcad",
   "metadata": {},
   "source": [
    "## **Section 2 - Water Conflicts in the Colorado River Basin**"
   ]
  },
  {
   "cell_type": "code",
   "execution_count": 1,
   "id": "47bc9468-81aa-49f5-9e79-f1f6e960b329",
   "metadata": {},
   "outputs": [],
   "source": [
    "import pandas as pd\n",
    "import numpy as np"
   ]
  },
  {
   "cell_type": "markdown",
   "id": "78fe1dad-fe04-4a5f-8a28-a3aab757dfb2",
   "metadata": {},
   "source": [
    "Read in data"
   ]
  },
  {
   "cell_type": "code",
   "execution_count": 2,
   "id": "2b682134-fbec-4c20-82f9-d4129902fa3f",
   "metadata": {
    "tags": []
   },
   "outputs": [],
   "source": [
    "df = pd.read_csv('data/col_river.csv')"
   ]
  },
  {
   "cell_type": "code",
   "execution_count": 4,
   "id": "a655e33b-17e8-4e45-adae-e383c7f6cd6b",
   "metadata": {
    "collapsed": true,
    "jupyter": {
     "outputs_hidden": true
    },
    "tags": []
   },
   "outputs": [
    {
     "data": {
      "text/plain": [
       "Index(['Event', 'Search Source', 'Newspaper', 'Article Title', 'Duplicate',\n",
       "       'Report Date', 'Report Year', 'Event Date', 'Event Day', 'Event Month',\n",
       "       'Event Year', 'Conflict Present', 'Crisis Present', 'Basin', 'HUC6',\n",
       "       'HUC2', 'Place', 'County', 'County FIPS', 'State', 'State FIPS',\n",
       "       'Urban or Rural', 'Issue Type', 'Event Summary', 'Stakeholders',\n",
       "       'Intensity Value', 'Comments', 'Related Observation Themes',\n",
       "       'Article Text Search - water quality',\n",
       "       'Article Text Search - invasive species',\n",
       "       'Article Text Search - conservation', 'Article Text Search - drought',\n",
       "       'Article Text Search - flood',\n",
       "       'Article Text Search - ground water depletion',\n",
       "       'Article Text Search - depletion',\n",
       "       'Article Text Search - infrastructure',\n",
       "       'Article Text Search - fish passage',\n",
       "       'Article Text Search - instream water rights',\n",
       "       'Article Text Search - water rights',\n",
       "       'Article Text Search - intergovernmental',\n",
       "       'Article Text Search - water transfers',\n",
       "       'Article Text Search - navigation', 'Article Text Search - fish',\n",
       "       'Article Text Search - invasive', 'Article Text Search - diversion',\n",
       "       'Article Text Search - water diversion',\n",
       "       'Article Text Search - instream', 'Article Text Search - aquatic'],\n",
       "      dtype='object')"
      ]
     },
     "execution_count": 4,
     "metadata": {},
     "output_type": "execute_result"
    }
   ],
   "source": [
    "# Check out the columns\n",
    "df.columns"
   ]
  },
  {
   "cell_type": "code",
   "execution_count": 12,
   "id": "a4bb5d13-030e-4809-a550-7c4d114f008d",
   "metadata": {
    "collapsed": true,
    "jupyter": {
     "outputs_hidden": true
    },
    "tags": []
   },
   "outputs": [
    {
     "data": {
      "text/plain": [
       "Event                                           268\n",
       "Search Source                                     6\n",
       "Newspaper                                        45\n",
       "Article Title                                   267\n",
       "Duplicate                                         2\n",
       "Report Date                                     235\n",
       "Report Year                                      18\n",
       "Event Date                                       52\n",
       "Event Day                                        12\n",
       "Event Month                                      12\n",
       "Event Year                                       21\n",
       "Conflict Present                                  2\n",
       "Crisis Present                                    2\n",
       "Basin                                            25\n",
       "HUC6                                             22\n",
       "HUC2                                              7\n",
       "Place                                           135\n",
       "County                                            3\n",
       "County FIPS                                       3\n",
       "State                                            23\n",
       "State FIPS                                       19\n",
       "Urban or Rural                                    6\n",
       "Issue Type                                       19\n",
       "Event Summary                                   253\n",
       "Stakeholders                                    199\n",
       "Intensity Value                                  10\n",
       "Comments                                        184\n",
       "Related Observation Themes                       21\n",
       "Article Text Search - water quality              10\n",
       "Article Text Search - invasive species            2\n",
       "Article Text Search - conservation               15\n",
       "Article Text Search - drought                    19\n",
       "Article Text Search - flood                      10\n",
       "Article Text Search - ground water depletion      1\n",
       "Article Text Search - depletion                   2\n",
       "Article Text Search - infrastructure              9\n",
       "Article Text Search - fish passage                1\n",
       "Article Text Search - instream water rights       1\n",
       "Article Text Search - water rights               17\n",
       "Article Text Search - intergovernmental           2\n",
       "Article Text Search - water transfers             2\n",
       "Article Text Search - navigation                  2\n",
       "Article Text Search - fish                        8\n",
       "Article Text Search - invasive                    3\n",
       "Article Text Search - diversion                   6\n",
       "Article Text Search - water diversion             2\n",
       "Article Text Search - instream                    5\n",
       "Article Text Search - aquatic                     5\n",
       "dtype: int64"
      ]
     },
     "execution_count": 12,
     "metadata": {},
     "output_type": "execute_result"
    }
   ],
   "source": [
    "# Check for data types\n",
    "df['Event'].dtype\n",
    "\n",
    "# Check for unique values\n",
    "df.count()\n",
    "\n",
    "# Info tells you a LOT\n",
    "df.info()\n"
   ]
  },
  {
   "cell_type": "code",
   "execution_count": 13,
   "id": "c1a9f657-05c3-473b-9fdf-03ebe2ec25c5",
   "metadata": {
    "collapsed": true,
    "jupyter": {
     "outputs_hidden": true
    },
    "tags": []
   },
   "outputs": [
    {
     "name": "stdout",
     "output_type": "stream",
     "text": [
      "Event                                           268\n",
      "Search Source                                     6\n",
      "Newspaper                                        45\n",
      "Article Title                                   267\n",
      "Duplicate                                         2\n",
      "Report Date                                     235\n",
      "Report Year                                      18\n",
      "Event Date                                       52\n",
      "Event Day                                        12\n",
      "Event Month                                      12\n",
      "Event Year                                       21\n",
      "Conflict Present                                  2\n",
      "Crisis Present                                    2\n",
      "Basin                                            25\n",
      "HUC6                                             22\n",
      "HUC2                                              7\n",
      "Place                                           135\n",
      "County                                            3\n",
      "County FIPS                                       3\n",
      "State                                            23\n",
      "State FIPS                                       19\n",
      "Urban or Rural                                    6\n",
      "Issue Type                                       19\n",
      "Event Summary                                   253\n",
      "Stakeholders                                    199\n",
      "Intensity Value                                  10\n",
      "Comments                                        184\n",
      "Related Observation Themes                       21\n",
      "Article Text Search - water quality              10\n",
      "Article Text Search - invasive species            2\n",
      "Article Text Search - conservation               15\n",
      "Article Text Search - drought                    19\n",
      "Article Text Search - flood                      10\n",
      "Article Text Search - ground water depletion      1\n",
      "Article Text Search - depletion                   2\n",
      "Article Text Search - infrastructure              9\n",
      "Article Text Search - fish passage                1\n",
      "Article Text Search - instream water rights       1\n",
      "Article Text Search - water rights               17\n",
      "Article Text Search - intergovernmental           2\n",
      "Article Text Search - water transfers             2\n",
      "Article Text Search - navigation                  2\n",
      "Article Text Search - fish                        8\n",
      "Article Text Search - invasive                    3\n",
      "Article Text Search - diversion                   6\n",
      "Article Text Search - water diversion             2\n",
      "Article Text Search - instream                    5\n",
      "Article Text Search - aquatic                     5\n",
      "dtype: int64\n"
     ]
    }
   ],
   "source": [
    "print(df.nunique())"
   ]
  },
  {
   "cell_type": "markdown",
   "id": "52b1acee-d841-4bc2-a916-6e4324c68fe9",
   "metadata": {},
   "source": [
    "### 4 "
   ]
  },
  {
   "cell_type": "code",
   "execution_count": 16,
   "id": "4b4a5d12-4449-4b97-b8ae-43f85196e973",
   "metadata": {
    "tags": []
   },
   "outputs": [
    {
     "data": {
      "text/plain": [
       "array(['CO', 'UT', nan, 'AZ', 'OH; UT', 'AZ; CO; NM; UT', 'CA', 'AZ; UT',\n",
       "       'AZ; NV', 'CO; UT; WY; NM', 'AZ; CA', 'UT; AZ', 'CO; WY', 'NV; AZ',\n",
       "       'CO; AZ', 'AZ; CA; CO; NV; NM; UT; WY', 'AZ; CA; NV', 'NV', 'NM',\n",
       "       'UT; CO; WY', 'CA; NV; AZ', 'AZ; NM', 'WY; UT; CO', 'TX'],\n",
       "      dtype=object)"
      ]
     },
     "execution_count": 16,
     "metadata": {},
     "output_type": "execute_result"
    }
   ],
   "source": [
    "df['State'].unique()"
   ]
  },
  {
   "cell_type": "markdown",
   "id": "995ce6bd-0de2-482c-a8a8-4beb2bdf2a0d",
   "metadata": {},
   "source": [
    "### 5. String accessor for `pandas.Series`"
   ]
  },
  {
   "cell_type": "code",
   "execution_count": 19,
   "id": "491afb3a-90e9-4c14-8a88-87368302e0fd",
   "metadata": {
    "tags": []
   },
   "outputs": [
    {
     "data": {
      "text/plain": [
       "0    California; Nevada\n",
       "1               Arizona\n",
       "2                   NaN\n",
       "3          Nevada; Utah\n",
       "dtype: object"
      ]
     },
     "execution_count": 19,
     "metadata": {},
     "output_type": "execute_result"
    }
   ],
   "source": [
    "s = pd.Series(['California; Nevada', 'Arizona', np.nan, 'Nevada; Utah'])\n",
    "s"
   ]
  },
  {
   "cell_type": "markdown",
   "id": "dfb85cf6-8c3f-4353-98f1-11f465dd69ab",
   "metadata": {},
   "source": [
    "### 6. Find which states have water conflicts"
   ]
  },
  {
   "cell_type": "code",
   "execution_count": 33,
   "id": "c2c3d388-7c91-4c32-bba1-d583fc905196",
   "metadata": {
    "tags": []
   },
   "outputs": [
    {
     "data": {
      "text/plain": [
       "array(['CO', 'AZ', 'OH', 'UT', 'CA', 'NV', 'WY', 'NM'], dtype=object)"
      ]
     },
     "execution_count": 33,
     "metadata": {},
     "output_type": "execute_result"
    }
   ],
   "source": [
    "# Use str accessor with additional methods to perform string operations\n",
    "# .split splits strings by ';' and expands output into separate columns\n",
    "\n",
    "df_split = (df['State']\n",
    "            .loc[df['Conflict Present'] == 'Y']\n",
    "            .str.split(';', expand=True)\n",
    "            .stack()\n",
    "            .str.strip() # Removes spaces from values that were leftover from splitsville\n",
    "           )\n",
    "df_split.unique()\n",
    "\n",
    "# Split took different states into two different columns, stack made them back into one column\n",
    "# But what's up with the index? Dawg?"
   ]
  },
  {
   "cell_type": "markdown",
   "id": "7a8f7039-87d0-4880-b427-5fea57bbaed2",
   "metadata": {},
   "source": [
    "### 7. Brainstorm\n",
    "\n",
    "Individually, write step-by-step instructions on how you would wrangle the data frame df to obtain a list (without repetition) of the state codes in which a water conflict has been reported. It’s ok if you don’t know how to code each step - it’s more important to have an idea of what you would like to do."
   ]
  },
  {
   "cell_type": "markdown",
   "id": "ddce27d8-6c17-4b84-9bd0-defceb1c46d9",
   "metadata": {},
   "source": [
    "1) Select the state column\n",
    "2) `.loc` the states that have the value 'Y' in the `Conflict Present` column\n",
    "3) use the `.str` method `.split` to break up the 'State' column to only include single state values\n",
    "4) use `.stack` to re-stack the new 'State' column that has more values than before\n",
    "5) This new column has extra spaces left over from the split process, so use `.str.strip()` to remove all of the extra spaces\n",
    "6) Return all of the unique values in the new, split, stacked, and stripped 'State' column with `df.unique()`"
   ]
  },
  {
   "cell_type": "markdown",
   "id": "af0fde7a-df36-4c39-9359-6ebd1a38a0aa",
   "metadata": {},
   "source": [
    "### 8. Exploratory Wrangling\n"
   ]
  },
  {
   "cell_type": "code",
   "execution_count": 34,
   "id": "6be6ac3c-8a3f-410c-a049-464c40414eb2",
   "metadata": {
    "tags": []
   },
   "outputs": [
    {
     "data": {
      "text/plain": [
       "array(['CO', 'AZ', 'OH', 'UT', 'CA', 'NV', 'WY', 'NM'], dtype=object)"
      ]
     },
     "execution_count": 34,
     "metadata": {},
     "output_type": "execute_result"
    }
   ],
   "source": [
    "# Use str accessor with additional methods to perform string operations\n",
    "# .split splits strings by ';' and expands output into separate columns\n",
    "\n",
    "df_split = (df['State']\n",
    "            .loc[df['Conflict Present'] == 'Y']\n",
    "            .str.split(';', expand=True)\n",
    "            .stack()\n",
    "            .str.strip() # Removes spaces from values that were leftover from splitsville\n",
    "           )\n",
    "df_split.unique()\n",
    "\n",
    "# Split took different states into two different columns, stack made them back into one column\n",
    "# But what's up with the index? Dawg?"
   ]
  },
  {
   "cell_type": "markdown",
   "id": "0f38247b-9135-4a5b-a892-f079c001acaa",
   "metadata": {},
   "source": [
    "### 9. Find unique state codes\n",
    "\n",
    "BONUS: How many articles mention each state\n",
    "\n",
    "\n"
   ]
  },
  {
   "cell_type": "code",
   "execution_count": 50,
   "id": "44c9ce6c-c600-4e7e-9ca2-65b71349aa28",
   "metadata": {
    "tags": []
   },
   "outputs": [
    {
     "ename": "TypeError",
     "evalue": "'numpy.ndarray' object is not callable",
     "output_type": "error",
     "traceback": [
      "\u001b[0;31m---------------------------------------------------------------------------\u001b[0m",
      "\u001b[0;31mTypeError\u001b[0m                                 Traceback (most recent call last)",
      "Cell \u001b[0;32mIn[50], line 1\u001b[0m\n\u001b[0;32m----> 1\u001b[0m \u001b[43mdf_split\u001b[49m\u001b[38;5;241;43m.\u001b[39;49m\u001b[43mvalues\u001b[49m\u001b[43m(\u001b[49m\u001b[43m)\u001b[49m\n",
      "\u001b[0;31mTypeError\u001b[0m: 'numpy.ndarray' object is not callable"
     ]
    }
   ],
   "source": [
    "\n",
    "df_split.values()"
   ]
  },
  {
   "cell_type": "markdown",
   "id": "f6f96bd0-44d2-4e85-8cb8-972efac7b2e0",
   "metadata": {
    "tags": []
   },
   "source": [
    "I want a data frame that has ['state', 'count of state in df_new']"
   ]
  },
  {
   "cell_type": "code",
   "execution_count": 40,
   "id": "790fe0cb-8140-4cad-8fd1-71e242d42a59",
   "metadata": {
    "tags": []
   },
   "outputs": [
    {
     "data": {
      "text/plain": [
       "array(['The Durango Herald (Colorado)',\n",
       "       'Journal, The (Cortez, Dolores, Mancos, CO)',\n",
       "       'The Salt Lake Tribune', 'Casa Grande Dispatch (AZ)',\n",
       "       'The Aspen Times (Colorado)', 'The Arizona Republic (Phoenix)',\n",
       "       'Arizona Daily Star (Tucson)',\n",
       "       'Navajo Times (Window Rock, Arizona)',\n",
       "       'Associated Press State & Local',\n",
       "       'The Gallup Independent (New Mexico)',\n",
       "       'Mohave Valley Daily News (Bullhead City, Arizona)',\n",
       "       'The Associated Press', 'Colorado Daily (Boulder, Colorado)',\n",
       "       'Tri-Valley Dispatch (Casa Grande, AZ)',\n",
       "       'Peoria Times (Glendale, Arizona)',\n",
       "       'Post Independent (Glenwood Springs, Colorado)',\n",
       "       'Farmington Daily Times (New Mexico)',\n",
       "       'Ag Journal (La Junta, Colorado)',\n",
       "       'Deseret Morning News (Salt Lake City)',\n",
       "       'The Arizona Daily Sun (Flagstaff, AZ)',\n",
       "       'Rio Blanco Herald Times (Meeker, Colorado)',\n",
       "       'The Glendale Star (Arizona)',\n",
       "       'The Associated Press State & Local Wire',\n",
       "       'Sierra Vista Herald (Arizona)',\n",
       "       'Roswell Daily Record (New Mexico)', 'Vail Daily (Colorado)',\n",
       "       'Inside Tucson Business (Arizona)',\n",
       "       'The Montrose Daily Press (Colorado)',\n",
       "       'The Cortez Journal (Colorado)', 'The Sun (Yuma, Arizona)',\n",
       "       'The Daily Times (Farmington, New Mexico)',\n",
       "       'Eastern Arizona Courier (Safford, Arizona)',\n",
       "       'The Salt Lake Tribune (Utah)', 'Seattle Times (Washington)',\n",
       "       'Eagle Valley Enterprise (Colorado)',\n",
       "       'Albuquerque Journal: Blogs (New Mexico)',\n",
       "       'Brush News Tribune (Colorado)',\n",
       "       'La Junta Tribune-Democrat (Colorado)',\n",
       "       'Delta County Independent (Colorado)',\n",
       "       'Sky-Hi News (Granby, Colorado)', 'The Explorer (Tucson, Arizona)',\n",
       "       'Desert Times (Tucson, Arizona)', 'Glasgow Daily Times (Kentucky)',\n",
       "       'Maricopa Monitor (AZ)', 'The Arizona Republic'], dtype=object)"
      ]
     },
     "execution_count": 40,
     "metadata": {},
     "output_type": "execute_result"
    }
   ],
   "source": [
    "df['Newspaper'].unique()"
   ]
  },
  {
   "cell_type": "code",
   "execution_count": null,
   "id": "82ffb96e-5c2b-4821-87f2-5f1cf91535f6",
   "metadata": {},
   "outputs": [],
   "source": []
  }
 ],
 "metadata": {
  "kernelspec": {
   "display_name": "EDS220",
   "language": "python",
   "name": "eds220-env"
  },
  "language_info": {
   "codemirror_mode": {
    "name": "ipython",
    "version": 3
   },
   "file_extension": ".py",
   "mimetype": "text/x-python",
   "name": "python",
   "nbconvert_exporter": "python",
   "pygments_lexer": "ipython3",
   "version": "3.11.4"
  }
 },
 "nbformat": 4,
 "nbformat_minor": 5
}
