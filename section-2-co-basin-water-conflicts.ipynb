{
 "cells": [
  {
   "cell_type": "markdown",
   "id": "0c39ef98-d3a9-4e28-a6f8-87a1cd42dcad",
   "metadata": {},
   "source": [
    "## **Section 2 - Water Conflicts in the Colorado River Basin**"
   ]
  },
  {
   "cell_type": "code",
   "execution_count": null,
   "id": "47bc9468-81aa-49f5-9e79-f1f6e960b329",
   "metadata": {},
   "outputs": [],
   "source": []
  }
 ],
 "metadata": {
  "kernelspec": {
   "display_name": "EDS220",
   "language": "python",
   "name": "eds220-env"
  },
  "language_info": {
   "codemirror_mode": {
    "name": "ipython",
    "version": 3
   },
   "file_extension": ".py",
   "mimetype": "text/x-python",
   "name": "python",
   "nbconvert_exporter": "python",
   "pygments_lexer": "ipython3",
   "version": "3.11.4"
  }
 },
 "nbformat": 4,
 "nbformat_minor": 5
}
