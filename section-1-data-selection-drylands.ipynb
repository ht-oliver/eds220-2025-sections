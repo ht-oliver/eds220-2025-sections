{
 "cells": [
  {
   "cell_type": "markdown",
   "id": "162e2470-ac91-4d27-b334-e3daf8cf14cb",
   "metadata": {},
   "source": [
    "What is this data about?\n",
    "    - This data is about the arthropod prey of predator species found in California drylands, and associated environmental data.\n",
    "\n",
    "Is this data collected in-situ by the authors or is it a synthesis of multiple datasets?\n",
    "    - It is a synthesis of multiple datasets\n",
    "\n",
    "During what time frame were the observations in the dataset collected?\n",
    "    - 1945 - 2022\n",
    "\n",
    "Does this dataset come with an associated metadata file?\n",
    "    - Yes (metadata_arth_occurrences.csv)\n",
    "\n",
    "Does the dataset contain sensitive data?\n",
    "    - No"
   ]
  },
  {
   "cell_type": "code",
   "execution_count": 2,
   "id": "64cefd1a-a0e1-44d4-8aa4-eb2717c29ac1",
   "metadata": {
    "tags": []
   },
   "outputs": [],
   "source": [
    "import pandas as pd\n",
    "import numpy as np"
   ]
  },
  {
   "cell_type": "code",
   "execution_count": 8,
   "id": "575fa9c0-af61-4af9-a6be-07b88af4cff8",
   "metadata": {
    "tags": []
   },
   "outputs": [],
   "source": [
    "meta = pd.read_csv('https://knb.ecoinformatics.org/knb/d1/mn/v2/object/urn%3Auuid%3A3baf7289-bf90-4db3-ad11-58785c09b26e')\n",
    "meta\n",
    "\n",
    "arth = pd.read_csv('https://knb.ecoinformatics.org/knb/d1/mn/v2/object/urn%3Auuid%3A23d42528-1048-45d4-85d1-7e13b666e744')"
   ]
  },
  {
   "cell_type": "code",
   "execution_count": null,
   "id": "fab4d948-7883-41f2-a0c4-8a21cd1a57f1",
   "metadata": {},
   "outputs": [],
   "source": []
  }
 ],
 "metadata": {
  "kernelspec": {
   "display_name": "EDS220",
   "language": "python",
   "name": "eds220-env"
  },
  "language_info": {
   "codemirror_mode": {
    "name": "ipython",
    "version": 3
   },
   "file_extension": ".py",
   "mimetype": "text/x-python",
   "name": "python",
   "nbconvert_exporter": "python",
   "pygments_lexer": "ipython3",
   "version": "3.11.4"
  }
 },
 "nbformat": 4,
 "nbformat_minor": 5
}
