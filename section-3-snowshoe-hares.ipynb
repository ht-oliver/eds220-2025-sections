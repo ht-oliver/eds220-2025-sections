{
 "cells": [
  {
   "cell_type": "markdown",
   "id": "bcfd2144-ced1-4030-beec-10061b08eaa2",
   "metadata": {},
   "source": [
    "# 1)\n",
    "\n",
    "#### Take some time to look through the dataset’s description in EDI and click around. Discuss the following questions with your team:\n",
    "\n",
    "### What is this data about?\n",
    "Population fluctuations among snowshoe hairs in Alaskan wilderness\n",
    "\n",
    "#### During what time frame were the observations in the dataset collected?\n",
    "June 1, 1999 - September 14, 2012\n",
    "\n",
    "#### Does the dataset contain sensitive data?\n",
    "Naur\n",
    "\n",
    "#### Is there a publication associated with this dataset?\n",
    "Noaur\n",
    "\n",
    "#### In your notebook: use a markdown cell to add a brief description of the dataset, including a citation, date of access, and a link to the archive.\n",
    "\n",
    "Back in the EDI repository, click on View Full Metadata to access more information if you haven’t done so already. Go to the “Detailed Metadata” section and click on “Data Entities”. Take some time to look at the descriptions for the dataset’s columns."
   ]
  },
  {
   "cell_type": "markdown",
   "id": "c18a4b2f-3866-486f-a022-474bd8463b74",
   "metadata": {},
   "source": [
    "This dataset contains physiological data for hares that are trapped and tracked in Alaska wilderness. The purpose of the data is to study population dynamics of the hare species."
   ]
  }
 ],
 "metadata": {
  "kernelspec": {
   "display_name": "EDS-220 env",
   "language": "python",
   "name": "eds220-env"
  },
  "language_info": {
   "codemirror_mode": {
    "name": "ipython",
    "version": 3
   },
   "file_extension": ".py",
   "mimetype": "text/x-python",
   "name": "python",
   "nbconvert_exporter": "python",
   "pygments_lexer": "ipython3",
   "version": "3.11.4"
  }
 },
 "nbformat": 4,
 "nbformat_minor": 5
}
