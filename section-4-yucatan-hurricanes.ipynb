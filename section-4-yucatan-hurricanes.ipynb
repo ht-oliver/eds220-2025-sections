{
 "cells": [
  {
   "cell_type": "markdown",
   "id": "069b50ca-1b02-422b-8a4b-88b06aa1cae4",
   "metadata": {},
   "source": [
    "## Yucatan Hurricane Data\n",
    "\n",
    "This study used computer modeling to study the impacts of hurricanes across the Yucatan Peninsula since 1851.\n",
    "\n",
    "Boose, E. and D. Foster. 2023. Ecological Impacts of Hurricanes Across the Yucatan Peninsula 1851-2000 ver 23. Environmental Data Initiative. https://doi.org/10.6073/pasta/f219113373913f2daf421732e28d3c38 (Accessed 2025-10-24)."
   ]
  },
  {
   "cell_type": "code",
   "execution_count": 72,
   "id": "4e69d159-b19b-4755-847e-7ede1dd5ba15",
   "metadata": {
    "tags": []
   },
   "outputs": [],
   "source": [
    "import pandas as pd\n",
    "import numpy as np\n",
    "import matplotlib.pyplot as plt"
   ]
  },
  {
   "cell_type": "code",
   "execution_count": 73,
   "id": "ca979508-5a8b-499a-acab-c9f0ee20c7ed",
   "metadata": {
    "tags": []
   },
   "outputs": [],
   "source": [
    "hurricanes = pd.read_csv(\"data/hurricanes.csv\")"
   ]
  },
  {
   "cell_type": "code",
   "execution_count": 74,
   "id": "08c7c1cc-8e82-4bc9-80d6-5de1efb4e34f",
   "metadata": {
    "tags": []
   },
   "outputs": [
    {
     "data": {
      "text/plain": [
       "code          object\n",
       "start.date    object\n",
       "end.date      object\n",
       "number         int64\n",
       "name          object\n",
       "ss             int64\n",
       "track         object\n",
       "rf.max        object\n",
       "dtype: object"
      ]
     },
     "execution_count": 74,
     "metadata": {},
     "output_type": "execute_result"
    }
   ],
   "source": [
    "hurricanes.dtypes"
   ]
  },
  {
   "cell_type": "code",
   "execution_count": 75,
   "id": "4ec49ac5-9c2c-4b2e-83f9-ef03abf6bd69",
   "metadata": {
    "tags": []
   },
   "outputs": [
    {
     "data": {
      "text/plain": [
       "code           0\n",
       "start.date     0\n",
       "end.date       0\n",
       "number         0\n",
       "name          72\n",
       "ss             0\n",
       "track          0\n",
       "rf.max         0\n",
       "dtype: int64"
      ]
     },
     "execution_count": 75,
     "metadata": {},
     "output_type": "execute_result"
    }
   ],
   "source": [
    "hurricanes.isnull().sum()"
   ]
  },
  {
   "cell_type": "code",
   "execution_count": 76,
   "id": "9d1080a8-a64c-4dd8-88d5-84d52f72e67d",
   "metadata": {
    "tags": []
   },
   "outputs": [
    {
     "data": {
      "text/html": [
       "<div>\n",
       "<style scoped>\n",
       "    .dataframe tbody tr th:only-of-type {\n",
       "        vertical-align: middle;\n",
       "    }\n",
       "\n",
       "    .dataframe tbody tr th {\n",
       "        vertical-align: top;\n",
       "    }\n",
       "\n",
       "    .dataframe thead th {\n",
       "        text-align: right;\n",
       "    }\n",
       "</style>\n",
       "<table border=\"1\" class=\"dataframe\">\n",
       "  <thead>\n",
       "    <tr style=\"text-align: right;\">\n",
       "      <th></th>\n",
       "      <th>code</th>\n",
       "      <th>start.date</th>\n",
       "      <th>end.date</th>\n",
       "      <th>number</th>\n",
       "      <th>name</th>\n",
       "      <th>ss</th>\n",
       "      <th>track</th>\n",
       "      <th>rf.max</th>\n",
       "    </tr>\n",
       "  </thead>\n",
       "  <tbody>\n",
       "    <tr>\n",
       "      <th>0</th>\n",
       "      <td>Y1852</td>\n",
       "      <td>1852-10-07</td>\n",
       "      <td>1852-10-08</td>\n",
       "      <td>5</td>\n",
       "      <td>NaN</td>\n",
       "      <td>2</td>\n",
       "      <td>O</td>\n",
       "      <td>F1</td>\n",
       "    </tr>\n",
       "    <tr>\n",
       "      <th>1</th>\n",
       "      <td>Y1857</td>\n",
       "      <td>1857-09-28</td>\n",
       "      <td>1857-09-28</td>\n",
       "      <td>4</td>\n",
       "      <td>NaN</td>\n",
       "      <td>2</td>\n",
       "      <td>N</td>\n",
       "      <td>F1</td>\n",
       "    </tr>\n",
       "    <tr>\n",
       "      <th>2</th>\n",
       "      <td>Y1861</td>\n",
       "      <td>1861-08-17</td>\n",
       "      <td>1861-08-17</td>\n",
       "      <td>2</td>\n",
       "      <td>NaN</td>\n",
       "      <td>1</td>\n",
       "      <td>O</td>\n",
       "      <td>Nd</td>\n",
       "    </tr>\n",
       "    <tr>\n",
       "      <th>3</th>\n",
       "      <td>Y1864</td>\n",
       "      <td>1864-08-31</td>\n",
       "      <td>1864-08-31</td>\n",
       "      <td>3</td>\n",
       "      <td>NaN</td>\n",
       "      <td>1</td>\n",
       "      <td>S</td>\n",
       "      <td>F1</td>\n",
       "    </tr>\n",
       "    <tr>\n",
       "      <th>4</th>\n",
       "      <td>Y1865</td>\n",
       "      <td>1865-09-11</td>\n",
       "      <td>1865-09-11</td>\n",
       "      <td>4</td>\n",
       "      <td>NaN</td>\n",
       "      <td>2</td>\n",
       "      <td>O</td>\n",
       "      <td>F1</td>\n",
       "    </tr>\n",
       "  </tbody>\n",
       "</table>\n",
       "</div>"
      ],
      "text/plain": [
       "    code  start.date    end.date  number name  ss track rf.max\n",
       "0  Y1852  1852-10-07  1852-10-08       5  NaN   2     O     F1\n",
       "1  Y1857  1857-09-28  1857-09-28       4  NaN   2     N     F1\n",
       "2  Y1861  1861-08-17  1861-08-17       2  NaN   1     O     Nd\n",
       "3  Y1864  1864-08-31  1864-08-31       3  NaN   1     S     F1\n",
       "4  Y1865  1865-09-11  1865-09-11       4  NaN   2     O     F1"
      ]
     },
     "execution_count": 76,
     "metadata": {},
     "output_type": "execute_result"
    }
   ],
   "source": [
    "hurricanes.head()"
   ]
  },
  {
   "cell_type": "markdown",
   "id": "4415b791-6616-42e7-8def-6b91ff4fc4c2",
   "metadata": {},
   "source": [
    "## 3 Brainstorm Data Wrangling\n",
    "\n",
    "1) Change date column to datetime\n",
    "2) We want to look at the intensity and frequency of hurricanes across time\n",
    "3) Index by date\n",
    "4) Create duration column\n",
    "\n"
   ]
  },
  {
   "cell_type": "code",
   "execution_count": 77,
   "id": "9c019146-d6e7-40fb-802a-121da18d84e8",
   "metadata": {
    "tags": []
   },
   "outputs": [],
   "source": [
    "# Change column names to eliminate periods\n",
    "hurricanes.columns = hurricanes.columns.str.replace(\".\", \"_\")"
   ]
  },
  {
   "cell_type": "code",
   "execution_count": 78,
   "id": "1b316bc3-9a9e-4572-bc82-698b9cc0ee9b",
   "metadata": {
    "tags": []
   },
   "outputs": [],
   "source": [
    "# Change start_date to datetime\n",
    "hurricanes.start_date = pd.to_datetime(hurricanes.start_date)\n",
    "hurricanes.end_date = pd.to_datetime(hurricanes.end_date)\n"
   ]
  },
  {
   "cell_type": "code",
   "execution_count": 79,
   "id": "ac469e81-4ff9-4eb1-8e66-bb6fcd208dee",
   "metadata": {
    "tags": []
   },
   "outputs": [],
   "source": [
    "# Duration\n",
    "hurricanes['duration'] = hurricanes['end_date'] - hurricanes['start_date']"
   ]
  },
  {
   "cell_type": "code",
   "execution_count": 80,
   "id": "26b89b4a-4266-4f3d-be71-7a26e73be6d8",
   "metadata": {
    "tags": []
   },
   "outputs": [],
   "source": [
    "hurricanes = hurricanes.set_index('start_date')"
   ]
  },
  {
   "cell_type": "code",
   "execution_count": 81,
   "id": "c432c210-462c-47ac-840d-d692b8cd5403",
   "metadata": {
    "tags": []
   },
   "outputs": [
    {
     "data": {
      "text/html": [
       "<div>\n",
       "<style scoped>\n",
       "    .dataframe tbody tr th:only-of-type {\n",
       "        vertical-align: middle;\n",
       "    }\n",
       "\n",
       "    .dataframe tbody tr th {\n",
       "        vertical-align: top;\n",
       "    }\n",
       "\n",
       "    .dataframe thead th {\n",
       "        text-align: right;\n",
       "    }\n",
       "</style>\n",
       "<table border=\"1\" class=\"dataframe\">\n",
       "  <thead>\n",
       "    <tr style=\"text-align: right;\">\n",
       "      <th></th>\n",
       "      <th>code</th>\n",
       "      <th>end_date</th>\n",
       "      <th>number</th>\n",
       "      <th>name</th>\n",
       "      <th>ss</th>\n",
       "      <th>track</th>\n",
       "      <th>rf_max</th>\n",
       "      <th>duration</th>\n",
       "    </tr>\n",
       "    <tr>\n",
       "      <th>start_date</th>\n",
       "      <th></th>\n",
       "      <th></th>\n",
       "      <th></th>\n",
       "      <th></th>\n",
       "      <th></th>\n",
       "      <th></th>\n",
       "      <th></th>\n",
       "      <th></th>\n",
       "    </tr>\n",
       "  </thead>\n",
       "  <tbody>\n",
       "    <tr>\n",
       "      <th>1852-10-07</th>\n",
       "      <td>Y1852</td>\n",
       "      <td>1852-10-08</td>\n",
       "      <td>5</td>\n",
       "      <td>NaN</td>\n",
       "      <td>2</td>\n",
       "      <td>O</td>\n",
       "      <td>F1</td>\n",
       "      <td>1 days</td>\n",
       "    </tr>\n",
       "    <tr>\n",
       "      <th>1857-09-28</th>\n",
       "      <td>Y1857</td>\n",
       "      <td>1857-09-28</td>\n",
       "      <td>4</td>\n",
       "      <td>NaN</td>\n",
       "      <td>2</td>\n",
       "      <td>N</td>\n",
       "      <td>F1</td>\n",
       "      <td>0 days</td>\n",
       "    </tr>\n",
       "    <tr>\n",
       "      <th>1861-08-17</th>\n",
       "      <td>Y1861</td>\n",
       "      <td>1861-08-17</td>\n",
       "      <td>2</td>\n",
       "      <td>NaN</td>\n",
       "      <td>1</td>\n",
       "      <td>O</td>\n",
       "      <td>Nd</td>\n",
       "      <td>0 days</td>\n",
       "    </tr>\n",
       "    <tr>\n",
       "      <th>1864-08-31</th>\n",
       "      <td>Y1864</td>\n",
       "      <td>1864-08-31</td>\n",
       "      <td>3</td>\n",
       "      <td>NaN</td>\n",
       "      <td>1</td>\n",
       "      <td>S</td>\n",
       "      <td>F1</td>\n",
       "      <td>0 days</td>\n",
       "    </tr>\n",
       "    <tr>\n",
       "      <th>1865-09-11</th>\n",
       "      <td>Y1865</td>\n",
       "      <td>1865-09-11</td>\n",
       "      <td>4</td>\n",
       "      <td>NaN</td>\n",
       "      <td>2</td>\n",
       "      <td>O</td>\n",
       "      <td>F1</td>\n",
       "      <td>0 days</td>\n",
       "    </tr>\n",
       "  </tbody>\n",
       "</table>\n",
       "</div>"
      ],
      "text/plain": [
       "             code   end_date  number name  ss track rf_max duration\n",
       "start_date                                                         \n",
       "1852-10-07  Y1852 1852-10-08       5  NaN   2     O     F1   1 days\n",
       "1857-09-28  Y1857 1857-09-28       4  NaN   2     N     F1   0 days\n",
       "1861-08-17  Y1861 1861-08-17       2  NaN   1     O     Nd   0 days\n",
       "1864-08-31  Y1864 1864-08-31       3  NaN   1     S     F1   0 days\n",
       "1865-09-11  Y1865 1865-09-11       4  NaN   2     O     F1   0 days"
      ]
     },
     "execution_count": 81,
     "metadata": {},
     "output_type": "execute_result"
    }
   ],
   "source": [
    "hurricanes.head()"
   ]
  },
  {
   "cell_type": "code",
   "execution_count": 98,
   "id": "3e229d11-b46e-4228-b772-da1f3c7e8015",
   "metadata": {
    "tags": []
   },
   "outputs": [
    {
     "name": "stdout",
     "output_type": "stream",
     "text": [
      "there are 4 category 5 hurricanes\n"
     ]
    }
   ],
   "source": [
    "hurricane_cat5 = hurricanes.loc[hurricanes['ss'] == 5]\n",
    "print(\"there are\", len(hurricane_cat5), \"category 5 hurricanes\")"
   ]
  },
  {
   "cell_type": "code",
   "execution_count": 92,
   "id": "88f5770c-c018-47b7-9cf0-c56a8a033c4d",
   "metadata": {
    "tags": []
   },
   "outputs": [
    {
     "data": {
      "text/html": [
       "<div>\n",
       "<style scoped>\n",
       "    .dataframe tbody tr th:only-of-type {\n",
       "        vertical-align: middle;\n",
       "    }\n",
       "\n",
       "    .dataframe tbody tr th {\n",
       "        vertical-align: top;\n",
       "    }\n",
       "\n",
       "    .dataframe thead th {\n",
       "        text-align: right;\n",
       "    }\n",
       "</style>\n",
       "<table border=\"1\" class=\"dataframe\">\n",
       "  <thead>\n",
       "    <tr style=\"text-align: right;\">\n",
       "      <th></th>\n",
       "      <th>code</th>\n",
       "      <th>end_date</th>\n",
       "      <th>number</th>\n",
       "      <th>name</th>\n",
       "      <th>ss</th>\n",
       "      <th>track</th>\n",
       "      <th>rf_max</th>\n",
       "      <th>duration</th>\n",
       "    </tr>\n",
       "    <tr>\n",
       "      <th>start_date</th>\n",
       "      <th></th>\n",
       "      <th></th>\n",
       "      <th></th>\n",
       "      <th></th>\n",
       "      <th></th>\n",
       "      <th></th>\n",
       "      <th></th>\n",
       "      <th></th>\n",
       "    </tr>\n",
       "  </thead>\n",
       "  <tbody>\n",
       "    <tr>\n",
       "      <th>1951-08-19</th>\n",
       "      <td>Y1951</td>\n",
       "      <td>1951-08-20</td>\n",
       "      <td>3</td>\n",
       "      <td>Charlie</td>\n",
       "      <td>4</td>\n",
       "      <td>N</td>\n",
       "      <td>F2</td>\n",
       "      <td>1 days</td>\n",
       "    </tr>\n",
       "    <tr>\n",
       "      <th>1961-10-31</th>\n",
       "      <td>Y1961c</td>\n",
       "      <td>1961-10-31</td>\n",
       "      <td>9</td>\n",
       "      <td>Hattie</td>\n",
       "      <td>4</td>\n",
       "      <td>S</td>\n",
       "      <td>F2</td>\n",
       "      <td>0 days</td>\n",
       "    </tr>\n",
       "    <tr>\n",
       "      <th>1966-10-06</th>\n",
       "      <td>Y1966</td>\n",
       "      <td>1966-10-07</td>\n",
       "      <td>9</td>\n",
       "      <td>Inez</td>\n",
       "      <td>4</td>\n",
       "      <td>O</td>\n",
       "      <td>F2</td>\n",
       "      <td>1 days</td>\n",
       "    </tr>\n",
       "    <tr>\n",
       "      <th>1969-08-15</th>\n",
       "      <td>Y1969a</td>\n",
       "      <td>1969-08-16</td>\n",
       "      <td>3</td>\n",
       "      <td>Camille</td>\n",
       "      <td>4</td>\n",
       "      <td>O</td>\n",
       "      <td>F0</td>\n",
       "      <td>1 days</td>\n",
       "    </tr>\n",
       "    <tr>\n",
       "      <th>1974-09-02</th>\n",
       "      <td>Y1974a</td>\n",
       "      <td>1974-09-06</td>\n",
       "      <td>6</td>\n",
       "      <td>Carmen</td>\n",
       "      <td>4</td>\n",
       "      <td>N</td>\n",
       "      <td>F3</td>\n",
       "      <td>4 days</td>\n",
       "    </tr>\n",
       "    <tr>\n",
       "      <th>2000-10-01</th>\n",
       "      <td>Y2000</td>\n",
       "      <td>2000-10-03</td>\n",
       "      <td>15</td>\n",
       "      <td>Keith</td>\n",
       "      <td>4</td>\n",
       "      <td>S</td>\n",
       "      <td>F2</td>\n",
       "      <td>2 days</td>\n",
       "    </tr>\n",
       "  </tbody>\n",
       "</table>\n",
       "</div>"
      ],
      "text/plain": [
       "              code   end_date  number     name  ss track rf_max duration\n",
       "start_date                                                              \n",
       "1951-08-19   Y1951 1951-08-20       3  Charlie   4     N     F2   1 days\n",
       "1961-10-31  Y1961c 1961-10-31       9   Hattie   4     S     F2   0 days\n",
       "1966-10-06   Y1966 1966-10-07       9     Inez   4     O     F2   1 days\n",
       "1969-08-15  Y1969a 1969-08-16       3  Camille   4     O     F0   1 days\n",
       "1974-09-02  Y1974a 1974-09-06       6   Carmen   4     N     F3   4 days\n",
       "2000-10-01   Y2000 2000-10-03      15    Keith   4     S     F2   2 days"
      ]
     },
     "execution_count": 92,
     "metadata": {},
     "output_type": "execute_result"
    }
   ],
   "source": [
    "hurricane_cat4 = hurricanes.loc[hurricanes['ss'] == 4]\n",
    "hurricane_cat4"
   ]
  },
  {
   "cell_type": "code",
   "execution_count": 99,
   "id": "bb525f75-f8da-4dc3-935b-4fa7c1738eb4",
   "metadata": {
    "tags": []
   },
   "outputs": [
    {
     "name": "stdout",
     "output_type": "stream",
     "text": [
      "there are 4 category 5 hurricanes\n",
      "there are 6 category 4 hurricanes\n",
      "there are 18 category 3 hurricanes\n"
     ]
    }
   ],
   "source": [
    "hurricane_cat3 = hurricanes.loc[hurricanes['ss'] == 3]\n",
    "hurricane_cat3\n",
    "\n",
    "print(\"there are\", len(hurricane_cat5), \"category 5 hurricanes\")\n",
    "print(\"there are\", len(hurricane_cat4), \"category 4 hurricanes\")\n",
    "print(\"there are\", len(hurricane_cat3), \"category 3 hurricanes\")"
   ]
  },
  {
   "cell_type": "code",
   "execution_count": 82,
   "id": "6dec5d9c-d2a0-4b8b-bde7-17977f0f4a91",
   "metadata": {
    "tags": []
   },
   "outputs": [
    {
     "data": {
      "text/plain": [
       "<Figure size 640x480 with 0 Axes>"
      ]
     },
     "metadata": {},
     "output_type": "display_data"
    }
   ],
   "source": [
    "# Create empty figure\n",
    "fig1 = plt.figure()"
   ]
  },
  {
   "cell_type": "code",
   "execution_count": 83,
   "id": "e169258c-8989-4e95-8d3b-a3bfb27c9ffa",
   "metadata": {
    "tags": []
   },
   "outputs": [
    {
     "data": {
      "text/plain": [
       "Text(0.5, 1.0, 'Hurricane Intensity Over Time in the Yucutan Peninsula')"
      ]
     },
     "execution_count": 83,
     "metadata": {},
     "output_type": "execute_result"
    },
    {
     "data": {
      "image/png": "[encoded data removed]",
      "text/plain": [
       "<Figure size 640x480 with 1 Axes>"
      ]
     },
     "metadata": {},
     "output_type": "display_data"
    }
   ],
   "source": [
    "plt.scatter(hurricanes.index, hurricanes.ss, \n",
    "           color = 'deepskyblue',\n",
    "           linewidths = 1,\n",
    "           edgecolors = 'black',\n",
    "           alpha = .5)\n",
    "plt.yticks([1,2,3,4,5]) # Change ticks y axis\n",
    "plt.xlabel('Years') # Add label to x axis\n",
    "plt.ylabel('Category') # Add label to y axis\n",
    "plt.title('Hurricane Intensity Over Time in the Yucutan Peninsula')\n"
   ]
  },
  {
   "cell_type": "markdown",
   "id": "88bb6ed8-127a-4d2d-b434-bf12b3a6de22",
   "metadata": {},
   "source": [
    "Category 4 and 5 hurricanes didn't start showing up until the 1950s. This could be because hurricanes are getting more intense, or because we changed the way that we categorize hurricanes. "
   ]
  }
 ],
 "metadata": {
  "kernelspec": {
   "display_name": "EDS-220 env",
   "language": "python",
   "name": "eds220-env"
  },
  "language_info": {
   "codemirror_mode": {
    "name": "ipython",
    "version": 3
   },
   "file_extension": ".py",
   "mimetype": "text/x-python",
   "name": "python",
   "nbconvert_exporter": "python",
   "pygments_lexer": "ipython3",
   "version": "3.11.4"
  }
 },
 "nbformat": 4,
 "nbformat_minor": 5
}
